{
 "cells": [
  {
   "cell_type": "code",
   "id": "initial_id",
   "metadata": {
    "collapsed": true,
    "ExecuteTime": {
     "end_time": "2025-03-24T07:30:03.238500Z",
     "start_time": "2025-03-24T07:29:58.973487Z"
    }
   },
   "source": [
    "# 1. Import the library\n",
    "import numpy as np\n",
    "import pandas as pd\n",
    "import tensorflow as tf\n",
    "from sklearn.metrics import root_mean_squared_error\n"
   ],
   "outputs": [],
   "execution_count": 1
  },
  {
   "metadata": {
    "ExecuteTime": {
     "end_time": "2025-03-24T07:30:04.768212Z",
     "start_time": "2025-03-24T07:30:04.754292Z"
    }
   },
   "cell_type": "code",
   "source": [
    "# 2. Load data\n",
    "# 2.1 Target Data\n",
    "target_Train = pd.read_csv(\"Target_data.csv\")\n"
   ],
   "id": "523888b357272568",
   "outputs": [],
   "execution_count": 2
  },
  {
   "metadata": {
    "ExecuteTime": {
     "end_time": "2025-03-24T07:30:11.981854Z",
     "start_time": "2025-03-24T07:30:11.979468Z"
    }
   },
   "cell_type": "code",
   "source": [
    "# 2.2 Convert data to array\n",
    "target_Train_arr = np.array(target_Train)\n"
   ],
   "id": "2aad5e84d455156e",
   "outputs": [],
   "execution_count": 3
  },
  {
   "metadata": {
    "ExecuteTime": {
     "end_time": "2025-03-24T07:30:18.749080Z",
     "start_time": "2025-03-24T07:30:18.747201Z"
    }
   },
   "cell_type": "code",
   "source": [
    "# 2.3 Transpose target data\n",
    "target_Train_tran = np.transpose(target_Train_arr)\n"
   ],
   "id": "c20734d6fdad6dba",
   "outputs": [],
   "execution_count": 4
  },
  {
   "metadata": {
    "ExecuteTime": {
     "end_time": "2025-03-24T07:30:33.834406Z",
     "start_time": "2025-03-24T07:30:33.819921Z"
    }
   },
   "cell_type": "code",
   "source": [
    "# 3.1 Load Test data\n",
    "Test_data = pd.read_csv(\"Input_Testin_Data.csv\")\n",
    "# 3.2 Convert data to array\n",
    "Test_data_arr = np.array(Test_data)\n",
    "# 3.3 Transpose target data\n",
    "Test_data_Tra = np.transpose(Test_data_arr)\n",
    "\n",
    "# 3.4 Normalize the data\n",
    "# 3.4.1 formula to normalize\n",
    "def norm(x):\n",
    "    return (x - x.min()) / (x.max() - x.min())\n",
    "\n",
    "Test_data_norm = norm(Test_data_Tra)"
   ],
   "id": "d273619964dff3c1",
   "outputs": [],
   "execution_count": 5
  },
  {
   "metadata": {
    "ExecuteTime": {
     "end_time": "2025-03-24T07:32:32.502231Z",
     "start_time": "2025-03-24T07:32:32.373153Z"
    }
   },
   "cell_type": "code",
   "source": [
    "# 4. Recreate the exact same model, including its weights and the optimizer\n",
    "ann_Model = tf.keras.models.load_model('w5_ImplementationANN_1.keras')\n",
    "\n"
   ],
   "id": "e74a4543ecbda437",
   "outputs": [],
   "execution_count": 6
  },
  {
   "metadata": {
    "ExecuteTime": {
     "end_time": "2025-03-24T07:32:41.458918Z",
     "start_time": "2025-03-24T07:32:41.293610Z"
    }
   },
   "cell_type": "code",
   "source": [
    "# 5. Prediction the test data with models\n",
    "pre_Ann = ann_Model.predict(Test_data_norm)\n"
   ],
   "id": "38d0c66b976172d8",
   "outputs": [
    {
     "name": "stdout",
     "output_type": "stream",
     "text": [
      "\u001B[1m12/12\u001B[0m \u001B[32m━━━━━━━━━━━━━━━━━━━━\u001B[0m\u001B[37m\u001B[0m \u001B[1m0s\u001B[0m 3ms/step \n"
     ]
    }
   ],
   "execution_count": 7
  },
  {
   "metadata": {
    "ExecuteTime": {
     "end_time": "2025-03-24T07:32:52.792490Z",
     "start_time": "2025-03-24T07:32:52.789619Z"
    }
   },
   "cell_type": "code",
   "source": [
    "# 6. Un-Label\n",
    "res_Ann = pre_Ann + target_Train_tran.min()\n"
   ],
   "id": "78e6fd129244512a",
   "outputs": [],
   "execution_count": 8
  },
  {
   "metadata": {
    "ExecuteTime": {
     "end_time": "2025-03-24T07:33:03.845979Z",
     "start_time": "2025-03-24T07:33:03.819764Z"
    }
   },
   "cell_type": "code",
   "source": [
    "# 7. Save data to execl field\n",
    "\n",
    "df1 = pd.DataFrame(np.transpose(res_Ann))\n",
    "df1.to_csv('W6_Pred_ANN.csv', index=None)\n",
    "\n"
   ],
   "id": "abc3377f2a007356",
   "outputs": [],
   "execution_count": 9
  },
  {
   "metadata": {},
   "cell_type": "code",
   "outputs": [],
   "execution_count": null,
   "source": "",
   "id": "f5c0b5a521551c91"
  }
 ],
 "metadata": {
  "kernelspec": {
   "display_name": "Python 3",
   "language": "python",
   "name": "python3"
  },
  "language_info": {
   "codemirror_mode": {
    "name": "ipython",
    "version": 2
   },
   "file_extension": ".py",
   "mimetype": "text/x-python",
   "name": "python",
   "nbconvert_exporter": "python",
   "pygments_lexer": "ipython2",
   "version": "2.7.6"
  }
 },
 "nbformat": 4,
 "nbformat_minor": 5
}
