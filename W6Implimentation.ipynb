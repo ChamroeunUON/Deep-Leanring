{
 "cells": [
  {
   "metadata": {
    "collapsed": true,
    "ExecuteTime": {
     "end_time": "2025-03-23T07:37:44.697956Z",
     "start_time": "2025-03-23T07:37:44.694137Z"
    }
   },
   "cell_type": "code",
   "source": [
    "# 1. Import the library\n",
    "import matplotlib.pyplot as plt\n",
    "import numpy as np\n",
    "import pandas as pd\n",
    "\n",
    "from keras.api.layers import Dense\n",
    "from keras.api.layers import Dropout\n",
    "from keras.api.optimizers import RMSprop\n",
    "from keras.api.models import Sequential\n",
    "from sklearn.model_selection import train_test_split\n"
   ],
   "id": "initial_id",
   "outputs": [],
   "execution_count": 46
  },
  {
   "metadata": {},
   "cell_type": "markdown",
   "source": "# Load Data",
   "id": "8bf32095310a69a4"
  },
  {
   "metadata": {
    "ExecuteTime": {
     "end_time": "2025-03-23T07:37:44.726468Z",
     "start_time": "2025-03-23T07:37:44.712944Z"
    }
   },
   "cell_type": "code",
   "source": [
    "# input data\n",
    "Input_data=pd.read_csv('Input_data.csv')\n",
    "Input_data.head()\n"
   ],
   "id": "cb4c1d74963dd79b",
   "outputs": [
    {
     "data": {
      "text/plain": [
       "     Ps3fcG1    Ps3fcG2    Ps3fcG3    Ps3fcG4    Ps3fcG5    Ps3fcG6  \\\n",
       "0  10.438953   6.621408  15.512871  15.512871  13.693546  13.975908   \n",
       "1  11.259718   7.665346  16.596429  16.596429  14.859346  15.136680   \n",
       "2  12.077376   8.698430  17.661146  17.661146  16.016358  16.287128   \n",
       "3  12.888141   9.712615  18.693392  18.693392  17.154518  17.416187   \n",
       "4  13.687643  10.703932  19.687194  19.687194  18.262741  18.512821   \n",
       "\n",
       "     Ps3fcG7    Ps3fcG8    Ps3fcG9   Ps3fcG10  ...  Ps9ffG21   Ps9ffG22  \\\n",
       "0  13.471690  15.512871  15.512871  15.512871  ...  0.575355  12.132656   \n",
       "1  14.605864  16.596429  16.596429  16.596429  ...  1.055984  13.932537   \n",
       "2  15.730693  17.661146  17.661146  17.661146  ...  1.566786  15.724604   \n",
       "3  16.834322  18.693392  18.693392  18.693392  ...  2.136634  17.500595   \n",
       "4  17.901983  19.687194  19.687194  19.687194  ...  2.790481  19.251885   \n",
       "\n",
       "   Ps9ffG23  Ps9ffG24  Ps9ffG25  Ps9ffG26   Ps9ffG27   Ps9ffG28   Ps9ffG29  \\\n",
       "0  1.444133  1.710315  0.451781  1.017509   8.190730  10.839517   9.059296   \n",
       "1  2.453564  2.901455  1.198477  1.621544   9.895569  12.330541  10.497167   \n",
       "2  3.479512  4.115427  1.980541  2.259260  11.603132  13.820962  11.932098   \n",
       "3  4.530634  5.365726  2.821064  2.958511  13.311362  15.308339  13.361190   \n",
       "4  5.608416  6.655588  3.727652  3.738065  15.014459  16.788904  14.783655   \n",
       "\n",
       "   Ps9ffG30  \n",
       "0  1.064068  \n",
       "1  1.899273  \n",
       "2  2.760353  \n",
       "3  3.662340  \n",
       "4  4.609589  \n",
       "\n",
       "[5 rows x 300 columns]"
      ],
      "text/html": [
       "<div>\n",
       "<style scoped>\n",
       "    .dataframe tbody tr th:only-of-type {\n",
       "        vertical-align: middle;\n",
       "    }\n",
       "\n",
       "    .dataframe tbody tr th {\n",
       "        vertical-align: top;\n",
       "    }\n",
       "\n",
       "    .dataframe thead th {\n",
       "        text-align: right;\n",
       "    }\n",
       "</style>\n",
       "<table border=\"1\" class=\"dataframe\">\n",
       "  <thead>\n",
       "    <tr style=\"text-align: right;\">\n",
       "      <th></th>\n",
       "      <th>Ps3fcG1</th>\n",
       "      <th>Ps3fcG2</th>\n",
       "      <th>Ps3fcG3</th>\n",
       "      <th>Ps3fcG4</th>\n",
       "      <th>Ps3fcG5</th>\n",
       "      <th>Ps3fcG6</th>\n",
       "      <th>Ps3fcG7</th>\n",
       "      <th>Ps3fcG8</th>\n",
       "      <th>Ps3fcG9</th>\n",
       "      <th>Ps3fcG10</th>\n",
       "      <th>...</th>\n",
       "      <th>Ps9ffG21</th>\n",
       "      <th>Ps9ffG22</th>\n",
       "      <th>Ps9ffG23</th>\n",
       "      <th>Ps9ffG24</th>\n",
       "      <th>Ps9ffG25</th>\n",
       "      <th>Ps9ffG26</th>\n",
       "      <th>Ps9ffG27</th>\n",
       "      <th>Ps9ffG28</th>\n",
       "      <th>Ps9ffG29</th>\n",
       "      <th>Ps9ffG30</th>\n",
       "    </tr>\n",
       "  </thead>\n",
       "  <tbody>\n",
       "    <tr>\n",
       "      <th>0</th>\n",
       "      <td>10.438953</td>\n",
       "      <td>6.621408</td>\n",
       "      <td>15.512871</td>\n",
       "      <td>15.512871</td>\n",
       "      <td>13.693546</td>\n",
       "      <td>13.975908</td>\n",
       "      <td>13.471690</td>\n",
       "      <td>15.512871</td>\n",
       "      <td>15.512871</td>\n",
       "      <td>15.512871</td>\n",
       "      <td>...</td>\n",
       "      <td>0.575355</td>\n",
       "      <td>12.132656</td>\n",
       "      <td>1.444133</td>\n",
       "      <td>1.710315</td>\n",
       "      <td>0.451781</td>\n",
       "      <td>1.017509</td>\n",
       "      <td>8.190730</td>\n",
       "      <td>10.839517</td>\n",
       "      <td>9.059296</td>\n",
       "      <td>1.064068</td>\n",
       "    </tr>\n",
       "    <tr>\n",
       "      <th>1</th>\n",
       "      <td>11.259718</td>\n",
       "      <td>7.665346</td>\n",
       "      <td>16.596429</td>\n",
       "      <td>16.596429</td>\n",
       "      <td>14.859346</td>\n",
       "      <td>15.136680</td>\n",
       "      <td>14.605864</td>\n",
       "      <td>16.596429</td>\n",
       "      <td>16.596429</td>\n",
       "      <td>16.596429</td>\n",
       "      <td>...</td>\n",
       "      <td>1.055984</td>\n",
       "      <td>13.932537</td>\n",
       "      <td>2.453564</td>\n",
       "      <td>2.901455</td>\n",
       "      <td>1.198477</td>\n",
       "      <td>1.621544</td>\n",
       "      <td>9.895569</td>\n",
       "      <td>12.330541</td>\n",
       "      <td>10.497167</td>\n",
       "      <td>1.899273</td>\n",
       "    </tr>\n",
       "    <tr>\n",
       "      <th>2</th>\n",
       "      <td>12.077376</td>\n",
       "      <td>8.698430</td>\n",
       "      <td>17.661146</td>\n",
       "      <td>17.661146</td>\n",
       "      <td>16.016358</td>\n",
       "      <td>16.287128</td>\n",
       "      <td>15.730693</td>\n",
       "      <td>17.661146</td>\n",
       "      <td>17.661146</td>\n",
       "      <td>17.661146</td>\n",
       "      <td>...</td>\n",
       "      <td>1.566786</td>\n",
       "      <td>15.724604</td>\n",
       "      <td>3.479512</td>\n",
       "      <td>4.115427</td>\n",
       "      <td>1.980541</td>\n",
       "      <td>2.259260</td>\n",
       "      <td>11.603132</td>\n",
       "      <td>13.820962</td>\n",
       "      <td>11.932098</td>\n",
       "      <td>2.760353</td>\n",
       "    </tr>\n",
       "    <tr>\n",
       "      <th>3</th>\n",
       "      <td>12.888141</td>\n",
       "      <td>9.712615</td>\n",
       "      <td>18.693392</td>\n",
       "      <td>18.693392</td>\n",
       "      <td>17.154518</td>\n",
       "      <td>17.416187</td>\n",
       "      <td>16.834322</td>\n",
       "      <td>18.693392</td>\n",
       "      <td>18.693392</td>\n",
       "      <td>18.693392</td>\n",
       "      <td>...</td>\n",
       "      <td>2.136634</td>\n",
       "      <td>17.500595</td>\n",
       "      <td>4.530634</td>\n",
       "      <td>5.365726</td>\n",
       "      <td>2.821064</td>\n",
       "      <td>2.958511</td>\n",
       "      <td>13.311362</td>\n",
       "      <td>15.308339</td>\n",
       "      <td>13.361190</td>\n",
       "      <td>3.662340</td>\n",
       "    </tr>\n",
       "    <tr>\n",
       "      <th>4</th>\n",
       "      <td>13.687643</td>\n",
       "      <td>10.703932</td>\n",
       "      <td>19.687194</td>\n",
       "      <td>19.687194</td>\n",
       "      <td>18.262741</td>\n",
       "      <td>18.512821</td>\n",
       "      <td>17.901983</td>\n",
       "      <td>19.687194</td>\n",
       "      <td>19.687194</td>\n",
       "      <td>19.687194</td>\n",
       "      <td>...</td>\n",
       "      <td>2.790481</td>\n",
       "      <td>19.251885</td>\n",
       "      <td>5.608416</td>\n",
       "      <td>6.655588</td>\n",
       "      <td>3.727652</td>\n",
       "      <td>3.738065</td>\n",
       "      <td>15.014459</td>\n",
       "      <td>16.788904</td>\n",
       "      <td>14.783655</td>\n",
       "      <td>4.609589</td>\n",
       "    </tr>\n",
       "  </tbody>\n",
       "</table>\n",
       "<p>5 rows × 300 columns</p>\n",
       "</div>"
      ]
     },
     "execution_count": 47,
     "metadata": {},
     "output_type": "execute_result"
    }
   ],
   "execution_count": 47
  },
  {
   "metadata": {
    "ExecuteTime": {
     "end_time": "2025-03-23T07:37:44.795154Z",
     "start_time": "2025-03-23T07:37:44.779854Z"
    }
   },
   "cell_type": "code",
   "source": [
    "#target_data\n",
    "Target_data=pd.read_csv('Target_data.csv')\n",
    "Target_data.head()"
   ],
   "id": "359b48470e9f49ee",
   "outputs": [
    {
     "data": {
      "text/plain": [
       "      Ks3fcG1     Ks3fcG2     Ks3fcG3     Ks3fcG4     Ks3fcG5     Ks3fcG6  \\\n",
       "0  172.772245  166.602443  164.839168  155.035174  155.279578  164.272203   \n",
       "1  173.454094  167.022569  165.664498  156.009940  155.988289  165.040986   \n",
       "2  174.101315  167.403776  166.470852  156.977872  156.676149  165.780648   \n",
       "3  174.681692  167.708718  167.229078  157.924367  157.319401  166.454704   \n",
       "4  175.172515  167.912020  167.902443  158.821426  157.897158  167.025639   \n",
       "\n",
       "      Ks3fcG7     Ks3fcG8     Ks3fcG9    Ks3fcG10  ...    Ks9ffG21  \\\n",
       "0  166.669603  165.299995  164.367751  164.538314  ...  163.026424   \n",
       "1  167.264042  165.990703  165.276946  164.843532  ...  164.745365   \n",
       "2  167.819217  166.651572  166.136958  165.144585  ...  166.356301   \n",
       "3  168.298102  167.251514  166.907440  165.422582  ...  167.781483   \n",
       "4  168.675393  167.764688  167.568059  165.647396  ...  168.979757   \n",
       "\n",
       "     Ks9ffG22    Ks9ffG23    Ks9ffG24    Ks9ffG25    Ks9ffG26    Ks9ffG27  \\\n",
       "0  161.957064  159.591205  165.195376  159.328296  162.813213  160.765217   \n",
       "1  163.739006  161.707100  166.613816  160.950962  164.311003  162.563730   \n",
       "2  165.508693  163.720700  167.930650  162.554776  165.720240  164.247216   \n",
       "3  167.219687  165.554004  169.074835  164.083297  166.973237  165.734544   \n",
       "4  168.781648  167.157132  170.013189  165.432390  168.025674  166.985536   \n",
       "\n",
       "     Ks9ffG28    Ks9ffG29    Ks9ffG30  \n",
       "0  165.595983  160.834960  159.928503  \n",
       "1  166.651040  162.462512  162.002078  \n",
       "2  167.604838  164.073337  164.009052  \n",
       "3  168.383610  165.618301  165.875947  \n",
       "4  168.946023  167.007497  167.537680  \n",
       "\n",
       "[5 rows x 300 columns]"
      ],
      "text/html": [
       "<div>\n",
       "<style scoped>\n",
       "    .dataframe tbody tr th:only-of-type {\n",
       "        vertical-align: middle;\n",
       "    }\n",
       "\n",
       "    .dataframe tbody tr th {\n",
       "        vertical-align: top;\n",
       "    }\n",
       "\n",
       "    .dataframe thead th {\n",
       "        text-align: right;\n",
       "    }\n",
       "</style>\n",
       "<table border=\"1\" class=\"dataframe\">\n",
       "  <thead>\n",
       "    <tr style=\"text-align: right;\">\n",
       "      <th></th>\n",
       "      <th>Ks3fcG1</th>\n",
       "      <th>Ks3fcG2</th>\n",
       "      <th>Ks3fcG3</th>\n",
       "      <th>Ks3fcG4</th>\n",
       "      <th>Ks3fcG5</th>\n",
       "      <th>Ks3fcG6</th>\n",
       "      <th>Ks3fcG7</th>\n",
       "      <th>Ks3fcG8</th>\n",
       "      <th>Ks3fcG9</th>\n",
       "      <th>Ks3fcG10</th>\n",
       "      <th>...</th>\n",
       "      <th>Ks9ffG21</th>\n",
       "      <th>Ks9ffG22</th>\n",
       "      <th>Ks9ffG23</th>\n",
       "      <th>Ks9ffG24</th>\n",
       "      <th>Ks9ffG25</th>\n",
       "      <th>Ks9ffG26</th>\n",
       "      <th>Ks9ffG27</th>\n",
       "      <th>Ks9ffG28</th>\n",
       "      <th>Ks9ffG29</th>\n",
       "      <th>Ks9ffG30</th>\n",
       "    </tr>\n",
       "  </thead>\n",
       "  <tbody>\n",
       "    <tr>\n",
       "      <th>0</th>\n",
       "      <td>172.772245</td>\n",
       "      <td>166.602443</td>\n",
       "      <td>164.839168</td>\n",
       "      <td>155.035174</td>\n",
       "      <td>155.279578</td>\n",
       "      <td>164.272203</td>\n",
       "      <td>166.669603</td>\n",
       "      <td>165.299995</td>\n",
       "      <td>164.367751</td>\n",
       "      <td>164.538314</td>\n",
       "      <td>...</td>\n",
       "      <td>163.026424</td>\n",
       "      <td>161.957064</td>\n",
       "      <td>159.591205</td>\n",
       "      <td>165.195376</td>\n",
       "      <td>159.328296</td>\n",
       "      <td>162.813213</td>\n",
       "      <td>160.765217</td>\n",
       "      <td>165.595983</td>\n",
       "      <td>160.834960</td>\n",
       "      <td>159.928503</td>\n",
       "    </tr>\n",
       "    <tr>\n",
       "      <th>1</th>\n",
       "      <td>173.454094</td>\n",
       "      <td>167.022569</td>\n",
       "      <td>165.664498</td>\n",
       "      <td>156.009940</td>\n",
       "      <td>155.988289</td>\n",
       "      <td>165.040986</td>\n",
       "      <td>167.264042</td>\n",
       "      <td>165.990703</td>\n",
       "      <td>165.276946</td>\n",
       "      <td>164.843532</td>\n",
       "      <td>...</td>\n",
       "      <td>164.745365</td>\n",
       "      <td>163.739006</td>\n",
       "      <td>161.707100</td>\n",
       "      <td>166.613816</td>\n",
       "      <td>160.950962</td>\n",
       "      <td>164.311003</td>\n",
       "      <td>162.563730</td>\n",
       "      <td>166.651040</td>\n",
       "      <td>162.462512</td>\n",
       "      <td>162.002078</td>\n",
       "    </tr>\n",
       "    <tr>\n",
       "      <th>2</th>\n",
       "      <td>174.101315</td>\n",
       "      <td>167.403776</td>\n",
       "      <td>166.470852</td>\n",
       "      <td>156.977872</td>\n",
       "      <td>156.676149</td>\n",
       "      <td>165.780648</td>\n",
       "      <td>167.819217</td>\n",
       "      <td>166.651572</td>\n",
       "      <td>166.136958</td>\n",
       "      <td>165.144585</td>\n",
       "      <td>...</td>\n",
       "      <td>166.356301</td>\n",
       "      <td>165.508693</td>\n",
       "      <td>163.720700</td>\n",
       "      <td>167.930650</td>\n",
       "      <td>162.554776</td>\n",
       "      <td>165.720240</td>\n",
       "      <td>164.247216</td>\n",
       "      <td>167.604838</td>\n",
       "      <td>164.073337</td>\n",
       "      <td>164.009052</td>\n",
       "    </tr>\n",
       "    <tr>\n",
       "      <th>3</th>\n",
       "      <td>174.681692</td>\n",
       "      <td>167.708718</td>\n",
       "      <td>167.229078</td>\n",
       "      <td>157.924367</td>\n",
       "      <td>157.319401</td>\n",
       "      <td>166.454704</td>\n",
       "      <td>168.298102</td>\n",
       "      <td>167.251514</td>\n",
       "      <td>166.907440</td>\n",
       "      <td>165.422582</td>\n",
       "      <td>...</td>\n",
       "      <td>167.781483</td>\n",
       "      <td>167.219687</td>\n",
       "      <td>165.554004</td>\n",
       "      <td>169.074835</td>\n",
       "      <td>164.083297</td>\n",
       "      <td>166.973237</td>\n",
       "      <td>165.734544</td>\n",
       "      <td>168.383610</td>\n",
       "      <td>165.618301</td>\n",
       "      <td>165.875947</td>\n",
       "    </tr>\n",
       "    <tr>\n",
       "      <th>4</th>\n",
       "      <td>175.172515</td>\n",
       "      <td>167.912020</td>\n",
       "      <td>167.902443</td>\n",
       "      <td>158.821426</td>\n",
       "      <td>157.897158</td>\n",
       "      <td>167.025639</td>\n",
       "      <td>168.675393</td>\n",
       "      <td>167.764688</td>\n",
       "      <td>167.568059</td>\n",
       "      <td>165.647396</td>\n",
       "      <td>...</td>\n",
       "      <td>168.979757</td>\n",
       "      <td>168.781648</td>\n",
       "      <td>167.157132</td>\n",
       "      <td>170.013189</td>\n",
       "      <td>165.432390</td>\n",
       "      <td>168.025674</td>\n",
       "      <td>166.985536</td>\n",
       "      <td>168.946023</td>\n",
       "      <td>167.007497</td>\n",
       "      <td>167.537680</td>\n",
       "    </tr>\n",
       "  </tbody>\n",
       "</table>\n",
       "<p>5 rows × 300 columns</p>\n",
       "</div>"
      ]
     },
     "execution_count": 48,
     "metadata": {},
     "output_type": "execute_result"
    }
   ],
   "execution_count": 48
  },
  {
   "metadata": {
    "ExecuteTime": {
     "end_time": "2025-03-23T07:37:44.856945Z",
     "start_time": "2025-03-23T07:37:44.854757Z"
    }
   },
   "cell_type": "code",
   "source": [
    "# 3. Pre-processing data\n",
    "# 3.1 Convert data to array\n",
    "Input_arr = np.array(Input_data)\n",
    "Target_arr = np.array(Target_data)\n"
   ],
   "id": "d23ce802795c28f7",
   "outputs": [],
   "execution_count": 49
  },
  {
   "metadata": {
    "ExecuteTime": {
     "end_time": "2025-03-23T07:37:45.039020Z",
     "start_time": "2025-03-23T07:37:45.036566Z"
    }
   },
   "cell_type": "code",
   "source": [
    "# 3.2 Transpose the matrix\n",
    "Input_tranp = np.transpose(Input_arr)\n",
    "Target_tranp = np.transpose(Target_arr)\n"
   ],
   "id": "f10a994d1fcdcb11",
   "outputs": [],
   "execution_count": 50
  },
  {
   "metadata": {
    "ExecuteTime": {
     "end_time": "2025-03-23T07:37:45.254101Z",
     "start_time": "2025-03-23T07:37:45.251664Z"
    }
   },
   "cell_type": "code",
   "source": [
    "# 4. Normalize the data\n",
    "# 4.1 formula to normalize\n",
    "def norm(x):\n",
    "    return (x - x.min()) / (x.max() - x.min())\n",
    "\n",
    "Input_norm = norm(Input_tranp)\n"
   ],
   "id": "3b653efaa4b5aa0",
   "outputs": [],
   "execution_count": 51
  },
  {
   "metadata": {
    "ExecuteTime": {
     "end_time": "2025-03-23T07:37:45.322808Z",
     "start_time": "2025-03-23T07:37:45.320552Z"
    }
   },
   "cell_type": "code",
   "source": [
    "# 5 Label the target output\n",
    "# 5.1 formula to label the target output\n",
    "def label(y):\n",
    "    z = (y - y.min())\n",
    "    return np.round(z)\n",
    "Target_tranp = label(Target_tranp)"
   ],
   "id": "4fa6136757c77439",
   "outputs": [],
   "execution_count": 52
  },
  {
   "metadata": {
    "ExecuteTime": {
     "end_time": "2025-03-23T07:37:45.337904Z",
     "start_time": "2025-03-23T07:37:45.334378Z"
    }
   },
   "cell_type": "code",
   "source": [
    "# 6 Split data 80% for train and 20% for validation\n",
    "Input_trai, Input_valid, Target_trai, Target_valid = train_test_split(Input_norm, Target_tranp, test_size=0.2)"
   ],
   "id": "2eb530c06d681872",
   "outputs": [],
   "execution_count": 53
  },
  {
   "metadata": {
    "ExecuteTime": {
     "end_time": "2025-03-23T08:27:54.745779Z",
     "start_time": "2025-03-23T08:27:54.700499Z"
    }
   },
   "cell_type": "code",
   "source": [
    "# 7. Create deep learning model\n",
    "ann_Model_1 = Sequential([\n",
    "        Dense(units=250, input_dim=Input_trai.shape[1], activation='sigmoid'),\n",
    "        Dense(units=250, activation='relu'),\n",
    "        Dense(Target_trai.shape[1], activation='elu')\n",
    "    ])\n",
    "ann_Model_2 = Sequential([\n",
    "        Dense(units=250, input_dim=Input_trai.shape[1], activation='sigmoid'),\n",
    "        Dropout(0.1),\n",
    "        Dense(units=250, activation='relu'),\n",
    "        Dropout(0.1),\n",
    "        Dense(Target_trai.shape[1], activation='elu')\n",
    "    ])\n",
    "ann_Model_3 = Sequential()\n",
    "ann_Model_3.add(Dense(units=250, input_dim=Input_trai.shape[1], activation='sigmoid'))\n",
    "ann_Model_3.add(Dropout(0.1))\n",
    "ann_Model_3.add(Dense(units=250, activation='relu'))\n",
    "ann_Model_3.add(Dropout(0.1))\n",
    "ann_Model_3.add(Dense(Target_trai.shape[1], activation='elu'))"
   ],
   "id": "54aa83ff7c23f3f4",
   "outputs": [
    {
     "name": "stderr",
     "output_type": "stream",
     "text": [
      "/Users/uonchamroeun/PyCharmMiscProject/.venv/lib/python3.12/site-packages/keras/src/layers/core/dense.py:87: UserWarning: Do not pass an `input_shape`/`input_dim` argument to a layer. When using Sequential models, prefer using an `Input(shape)` object as the first layer in the model instead.\n",
      "  super().__init__(activity_regularizer=activity_regularizer, **kwargs)\n"
     ]
    }
   ],
   "execution_count": 89
  },
  {
   "metadata": {
    "ExecuteTime": {
     "end_time": "2025-03-23T08:25:36.393393Z",
     "start_time": "2025-03-23T08:25:36.371783Z"
    }
   },
   "cell_type": "code",
   "source": [
    "# Check model property\n",
    "print(ann_Model_1.summary())\n",
    "print(ann_Model_2.summary())\n",
    "print(ann_Model_3.summary())\n"
   ],
   "id": "33838be1c1ccd502",
   "outputs": [
    {
     "data": {
      "text/plain": [
       "\u001B[1mModel: \"sequential_19\"\u001B[0m\n"
      ],
      "text/html": [
       "<pre style=\"white-space:pre;overflow-x:auto;line-height:normal;font-family:Menlo,'DejaVu Sans Mono',consolas,'Courier New',monospace\"><span style=\"font-weight: bold\">Model: \"sequential_19\"</span>\n",
       "</pre>\n"
      ]
     },
     "metadata": {},
     "output_type": "display_data"
    },
    {
     "data": {
      "text/plain": [
       "┏━━━━━━━━━━━━━━━━━━━━━━━━━━━━━━━━━┳━━━━━━━━━━━━━━━━━━━━━━━━┳━━━━━━━━━━━━━━━┓\n",
       "┃\u001B[1m \u001B[0m\u001B[1mLayer (type)                   \u001B[0m\u001B[1m \u001B[0m┃\u001B[1m \u001B[0m\u001B[1mOutput Shape          \u001B[0m\u001B[1m \u001B[0m┃\u001B[1m \u001B[0m\u001B[1m      Param #\u001B[0m\u001B[1m \u001B[0m┃\n",
       "┡━━━━━━━━━━━━━━━━━━━━━━━━━━━━━━━━━╇━━━━━━━━━━━━━━━━━━━━━━━━╇━━━━━━━━━━━━━━━┩\n",
       "│ dense_52 (\u001B[38;5;33mDense\u001B[0m)                │ (\u001B[38;5;45mNone\u001B[0m, \u001B[38;5;34m250\u001B[0m)            │        \u001B[38;5;34m25,250\u001B[0m │\n",
       "├─────────────────────────────────┼────────────────────────┼───────────────┤\n",
       "│ dense_53 (\u001B[38;5;33mDense\u001B[0m)                │ (\u001B[38;5;45mNone\u001B[0m, \u001B[38;5;34m250\u001B[0m)            │        \u001B[38;5;34m62,750\u001B[0m │\n",
       "├─────────────────────────────────┼────────────────────────┼───────────────┤\n",
       "│ dense_54 (\u001B[38;5;33mDense\u001B[0m)                │ (\u001B[38;5;45mNone\u001B[0m, \u001B[38;5;34m100\u001B[0m)            │        \u001B[38;5;34m25,100\u001B[0m │\n",
       "└─────────────────────────────────┴────────────────────────┴───────────────┘\n"
      ],
      "text/html": [
       "<pre style=\"white-space:pre;overflow-x:auto;line-height:normal;font-family:Menlo,'DejaVu Sans Mono',consolas,'Courier New',monospace\">┏━━━━━━━━━━━━━━━━━━━━━━━━━━━━━━━━━┳━━━━━━━━━━━━━━━━━━━━━━━━┳━━━━━━━━━━━━━━━┓\n",
       "┃<span style=\"font-weight: bold\"> Layer (type)                    </span>┃<span style=\"font-weight: bold\"> Output Shape           </span>┃<span style=\"font-weight: bold\">       Param # </span>┃\n",
       "┡━━━━━━━━━━━━━━━━━━━━━━━━━━━━━━━━━╇━━━━━━━━━━━━━━━━━━━━━━━━╇━━━━━━━━━━━━━━━┩\n",
       "│ dense_52 (<span style=\"color: #0087ff; text-decoration-color: #0087ff\">Dense</span>)                │ (<span style=\"color: #00d7ff; text-decoration-color: #00d7ff\">None</span>, <span style=\"color: #00af00; text-decoration-color: #00af00\">250</span>)            │        <span style=\"color: #00af00; text-decoration-color: #00af00\">25,250</span> │\n",
       "├─────────────────────────────────┼────────────────────────┼───────────────┤\n",
       "│ dense_53 (<span style=\"color: #0087ff; text-decoration-color: #0087ff\">Dense</span>)                │ (<span style=\"color: #00d7ff; text-decoration-color: #00d7ff\">None</span>, <span style=\"color: #00af00; text-decoration-color: #00af00\">250</span>)            │        <span style=\"color: #00af00; text-decoration-color: #00af00\">62,750</span> │\n",
       "├─────────────────────────────────┼────────────────────────┼───────────────┤\n",
       "│ dense_54 (<span style=\"color: #0087ff; text-decoration-color: #0087ff\">Dense</span>)                │ (<span style=\"color: #00d7ff; text-decoration-color: #00d7ff\">None</span>, <span style=\"color: #00af00; text-decoration-color: #00af00\">100</span>)            │        <span style=\"color: #00af00; text-decoration-color: #00af00\">25,100</span> │\n",
       "└─────────────────────────────────┴────────────────────────┴───────────────┘\n",
       "</pre>\n"
      ]
     },
     "metadata": {},
     "output_type": "display_data"
    },
    {
     "data": {
      "text/plain": [
       "\u001B[1m Total params: \u001B[0m\u001B[38;5;34m113,100\u001B[0m (441.80 KB)\n"
      ],
      "text/html": [
       "<pre style=\"white-space:pre;overflow-x:auto;line-height:normal;font-family:Menlo,'DejaVu Sans Mono',consolas,'Courier New',monospace\"><span style=\"font-weight: bold\"> Total params: </span><span style=\"color: #00af00; text-decoration-color: #00af00\">113,100</span> (441.80 KB)\n",
       "</pre>\n"
      ]
     },
     "metadata": {},
     "output_type": "display_data"
    },
    {
     "data": {
      "text/plain": [
       "\u001B[1m Trainable params: \u001B[0m\u001B[38;5;34m113,100\u001B[0m (441.80 KB)\n"
      ],
      "text/html": [
       "<pre style=\"white-space:pre;overflow-x:auto;line-height:normal;font-family:Menlo,'DejaVu Sans Mono',consolas,'Courier New',monospace\"><span style=\"font-weight: bold\"> Trainable params: </span><span style=\"color: #00af00; text-decoration-color: #00af00\">113,100</span> (441.80 KB)\n",
       "</pre>\n"
      ]
     },
     "metadata": {},
     "output_type": "display_data"
    },
    {
     "data": {
      "text/plain": [
       "\u001B[1m Non-trainable params: \u001B[0m\u001B[38;5;34m0\u001B[0m (0.00 B)\n"
      ],
      "text/html": [
       "<pre style=\"white-space:pre;overflow-x:auto;line-height:normal;font-family:Menlo,'DejaVu Sans Mono',consolas,'Courier New',monospace\"><span style=\"font-weight: bold\"> Non-trainable params: </span><span style=\"color: #00af00; text-decoration-color: #00af00\">0</span> (0.00 B)\n",
       "</pre>\n"
      ]
     },
     "metadata": {},
     "output_type": "display_data"
    },
    {
     "name": "stdout",
     "output_type": "stream",
     "text": [
      "None\n"
     ]
    },
    {
     "data": {
      "text/plain": [
       "\u001B[1mModel: \"sequential_20\"\u001B[0m\n"
      ],
      "text/html": [
       "<pre style=\"white-space:pre;overflow-x:auto;line-height:normal;font-family:Menlo,'DejaVu Sans Mono',consolas,'Courier New',monospace\"><span style=\"font-weight: bold\">Model: \"sequential_20\"</span>\n",
       "</pre>\n"
      ]
     },
     "metadata": {},
     "output_type": "display_data"
    },
    {
     "data": {
      "text/plain": [
       "┏━━━━━━━━━━━━━━━━━━━━━━━━━━━━━━━━━┳━━━━━━━━━━━━━━━━━━━━━━━━┳━━━━━━━━━━━━━━━┓\n",
       "┃\u001B[1m \u001B[0m\u001B[1mLayer (type)                   \u001B[0m\u001B[1m \u001B[0m┃\u001B[1m \u001B[0m\u001B[1mOutput Shape          \u001B[0m\u001B[1m \u001B[0m┃\u001B[1m \u001B[0m\u001B[1m      Param #\u001B[0m\u001B[1m \u001B[0m┃\n",
       "┡━━━━━━━━━━━━━━━━━━━━━━━━━━━━━━━━━╇━━━━━━━━━━━━━━━━━━━━━━━━╇━━━━━━━━━━━━━━━┩\n",
       "│ dense_55 (\u001B[38;5;33mDense\u001B[0m)                │ (\u001B[38;5;45mNone\u001B[0m, \u001B[38;5;34m250\u001B[0m)            │        \u001B[38;5;34m25,250\u001B[0m │\n",
       "├─────────────────────────────────┼────────────────────────┼───────────────┤\n",
       "│ dropout_20 (\u001B[38;5;33mDropout\u001B[0m)            │ (\u001B[38;5;45mNone\u001B[0m, \u001B[38;5;34m250\u001B[0m)            │             \u001B[38;5;34m0\u001B[0m │\n",
       "├─────────────────────────────────┼────────────────────────┼───────────────┤\n",
       "│ dense_56 (\u001B[38;5;33mDense\u001B[0m)                │ (\u001B[38;5;45mNone\u001B[0m, \u001B[38;5;34m250\u001B[0m)            │        \u001B[38;5;34m62,750\u001B[0m │\n",
       "├─────────────────────────────────┼────────────────────────┼───────────────┤\n",
       "│ dropout_21 (\u001B[38;5;33mDropout\u001B[0m)            │ (\u001B[38;5;45mNone\u001B[0m, \u001B[38;5;34m250\u001B[0m)            │             \u001B[38;5;34m0\u001B[0m │\n",
       "├─────────────────────────────────┼────────────────────────┼───────────────┤\n",
       "│ dense_57 (\u001B[38;5;33mDense\u001B[0m)                │ (\u001B[38;5;45mNone\u001B[0m, \u001B[38;5;34m100\u001B[0m)            │        \u001B[38;5;34m25,100\u001B[0m │\n",
       "└─────────────────────────────────┴────────────────────────┴───────────────┘\n"
      ],
      "text/html": [
       "<pre style=\"white-space:pre;overflow-x:auto;line-height:normal;font-family:Menlo,'DejaVu Sans Mono',consolas,'Courier New',monospace\">┏━━━━━━━━━━━━━━━━━━━━━━━━━━━━━━━━━┳━━━━━━━━━━━━━━━━━━━━━━━━┳━━━━━━━━━━━━━━━┓\n",
       "┃<span style=\"font-weight: bold\"> Layer (type)                    </span>┃<span style=\"font-weight: bold\"> Output Shape           </span>┃<span style=\"font-weight: bold\">       Param # </span>┃\n",
       "┡━━━━━━━━━━━━━━━━━━━━━━━━━━━━━━━━━╇━━━━━━━━━━━━━━━━━━━━━━━━╇━━━━━━━━━━━━━━━┩\n",
       "│ dense_55 (<span style=\"color: #0087ff; text-decoration-color: #0087ff\">Dense</span>)                │ (<span style=\"color: #00d7ff; text-decoration-color: #00d7ff\">None</span>, <span style=\"color: #00af00; text-decoration-color: #00af00\">250</span>)            │        <span style=\"color: #00af00; text-decoration-color: #00af00\">25,250</span> │\n",
       "├─────────────────────────────────┼────────────────────────┼───────────────┤\n",
       "│ dropout_20 (<span style=\"color: #0087ff; text-decoration-color: #0087ff\">Dropout</span>)            │ (<span style=\"color: #00d7ff; text-decoration-color: #00d7ff\">None</span>, <span style=\"color: #00af00; text-decoration-color: #00af00\">250</span>)            │             <span style=\"color: #00af00; text-decoration-color: #00af00\">0</span> │\n",
       "├─────────────────────────────────┼────────────────────────┼───────────────┤\n",
       "│ dense_56 (<span style=\"color: #0087ff; text-decoration-color: #0087ff\">Dense</span>)                │ (<span style=\"color: #00d7ff; text-decoration-color: #00d7ff\">None</span>, <span style=\"color: #00af00; text-decoration-color: #00af00\">250</span>)            │        <span style=\"color: #00af00; text-decoration-color: #00af00\">62,750</span> │\n",
       "├─────────────────────────────────┼────────────────────────┼───────────────┤\n",
       "│ dropout_21 (<span style=\"color: #0087ff; text-decoration-color: #0087ff\">Dropout</span>)            │ (<span style=\"color: #00d7ff; text-decoration-color: #00d7ff\">None</span>, <span style=\"color: #00af00; text-decoration-color: #00af00\">250</span>)            │             <span style=\"color: #00af00; text-decoration-color: #00af00\">0</span> │\n",
       "├─────────────────────────────────┼────────────────────────┼───────────────┤\n",
       "│ dense_57 (<span style=\"color: #0087ff; text-decoration-color: #0087ff\">Dense</span>)                │ (<span style=\"color: #00d7ff; text-decoration-color: #00d7ff\">None</span>, <span style=\"color: #00af00; text-decoration-color: #00af00\">100</span>)            │        <span style=\"color: #00af00; text-decoration-color: #00af00\">25,100</span> │\n",
       "└─────────────────────────────────┴────────────────────────┴───────────────┘\n",
       "</pre>\n"
      ]
     },
     "metadata": {},
     "output_type": "display_data"
    },
    {
     "data": {
      "text/plain": [
       "\u001B[1m Total params: \u001B[0m\u001B[38;5;34m113,100\u001B[0m (441.80 KB)\n"
      ],
      "text/html": [
       "<pre style=\"white-space:pre;overflow-x:auto;line-height:normal;font-family:Menlo,'DejaVu Sans Mono',consolas,'Courier New',monospace\"><span style=\"font-weight: bold\"> Total params: </span><span style=\"color: #00af00; text-decoration-color: #00af00\">113,100</span> (441.80 KB)\n",
       "</pre>\n"
      ]
     },
     "metadata": {},
     "output_type": "display_data"
    },
    {
     "data": {
      "text/plain": [
       "\u001B[1m Trainable params: \u001B[0m\u001B[38;5;34m113,100\u001B[0m (441.80 KB)\n"
      ],
      "text/html": [
       "<pre style=\"white-space:pre;overflow-x:auto;line-height:normal;font-family:Menlo,'DejaVu Sans Mono',consolas,'Courier New',monospace\"><span style=\"font-weight: bold\"> Trainable params: </span><span style=\"color: #00af00; text-decoration-color: #00af00\">113,100</span> (441.80 KB)\n",
       "</pre>\n"
      ]
     },
     "metadata": {},
     "output_type": "display_data"
    },
    {
     "data": {
      "text/plain": [
       "\u001B[1m Non-trainable params: \u001B[0m\u001B[38;5;34m0\u001B[0m (0.00 B)\n"
      ],
      "text/html": [
       "<pre style=\"white-space:pre;overflow-x:auto;line-height:normal;font-family:Menlo,'DejaVu Sans Mono',consolas,'Courier New',monospace\"><span style=\"font-weight: bold\"> Non-trainable params: </span><span style=\"color: #00af00; text-decoration-color: #00af00\">0</span> (0.00 B)\n",
       "</pre>\n"
      ]
     },
     "metadata": {},
     "output_type": "display_data"
    },
    {
     "name": "stdout",
     "output_type": "stream",
     "text": [
      "None\n"
     ]
    },
    {
     "data": {
      "text/plain": [
       "\u001B[1mModel: \"sequential_21\"\u001B[0m\n"
      ],
      "text/html": [
       "<pre style=\"white-space:pre;overflow-x:auto;line-height:normal;font-family:Menlo,'DejaVu Sans Mono',consolas,'Courier New',monospace\"><span style=\"font-weight: bold\">Model: \"sequential_21\"</span>\n",
       "</pre>\n"
      ]
     },
     "metadata": {},
     "output_type": "display_data"
    },
    {
     "data": {
      "text/plain": [
       "┏━━━━━━━━━━━━━━━━━━━━━━━━━━━━━━━━━┳━━━━━━━━━━━━━━━━━━━━━━━━┳━━━━━━━━━━━━━━━┓\n",
       "┃\u001B[1m \u001B[0m\u001B[1mLayer (type)                   \u001B[0m\u001B[1m \u001B[0m┃\u001B[1m \u001B[0m\u001B[1mOutput Shape          \u001B[0m\u001B[1m \u001B[0m┃\u001B[1m \u001B[0m\u001B[1m      Param #\u001B[0m\u001B[1m \u001B[0m┃\n",
       "┡━━━━━━━━━━━━━━━━━━━━━━━━━━━━━━━━━╇━━━━━━━━━━━━━━━━━━━━━━━━╇━━━━━━━━━━━━━━━┩\n",
       "│ dense_58 (\u001B[38;5;33mDense\u001B[0m)                │ (\u001B[38;5;45mNone\u001B[0m, \u001B[38;5;34m250\u001B[0m)            │        \u001B[38;5;34m25,250\u001B[0m │\n",
       "├─────────────────────────────────┼────────────────────────┼───────────────┤\n",
       "│ dropout_22 (\u001B[38;5;33mDropout\u001B[0m)            │ (\u001B[38;5;45mNone\u001B[0m, \u001B[38;5;34m250\u001B[0m)            │             \u001B[38;5;34m0\u001B[0m │\n",
       "├─────────────────────────────────┼────────────────────────┼───────────────┤\n",
       "│ dense_59 (\u001B[38;5;33mDense\u001B[0m)                │ (\u001B[38;5;45mNone\u001B[0m, \u001B[38;5;34m250\u001B[0m)            │        \u001B[38;5;34m62,750\u001B[0m │\n",
       "├─────────────────────────────────┼────────────────────────┼───────────────┤\n",
       "│ dropout_23 (\u001B[38;5;33mDropout\u001B[0m)            │ (\u001B[38;5;45mNone\u001B[0m, \u001B[38;5;34m250\u001B[0m)            │             \u001B[38;5;34m0\u001B[0m │\n",
       "├─────────────────────────────────┼────────────────────────┼───────────────┤\n",
       "│ dense_60 (\u001B[38;5;33mDense\u001B[0m)                │ (\u001B[38;5;45mNone\u001B[0m, \u001B[38;5;34m100\u001B[0m)            │        \u001B[38;5;34m25,100\u001B[0m │\n",
       "└─────────────────────────────────┴────────────────────────┴───────────────┘\n"
      ],
      "text/html": [
       "<pre style=\"white-space:pre;overflow-x:auto;line-height:normal;font-family:Menlo,'DejaVu Sans Mono',consolas,'Courier New',monospace\">┏━━━━━━━━━━━━━━━━━━━━━━━━━━━━━━━━━┳━━━━━━━━━━━━━━━━━━━━━━━━┳━━━━━━━━━━━━━━━┓\n",
       "┃<span style=\"font-weight: bold\"> Layer (type)                    </span>┃<span style=\"font-weight: bold\"> Output Shape           </span>┃<span style=\"font-weight: bold\">       Param # </span>┃\n",
       "┡━━━━━━━━━━━━━━━━━━━━━━━━━━━━━━━━━╇━━━━━━━━━━━━━━━━━━━━━━━━╇━━━━━━━━━━━━━━━┩\n",
       "│ dense_58 (<span style=\"color: #0087ff; text-decoration-color: #0087ff\">Dense</span>)                │ (<span style=\"color: #00d7ff; text-decoration-color: #00d7ff\">None</span>, <span style=\"color: #00af00; text-decoration-color: #00af00\">250</span>)            │        <span style=\"color: #00af00; text-decoration-color: #00af00\">25,250</span> │\n",
       "├─────────────────────────────────┼────────────────────────┼───────────────┤\n",
       "│ dropout_22 (<span style=\"color: #0087ff; text-decoration-color: #0087ff\">Dropout</span>)            │ (<span style=\"color: #00d7ff; text-decoration-color: #00d7ff\">None</span>, <span style=\"color: #00af00; text-decoration-color: #00af00\">250</span>)            │             <span style=\"color: #00af00; text-decoration-color: #00af00\">0</span> │\n",
       "├─────────────────────────────────┼────────────────────────┼───────────────┤\n",
       "│ dense_59 (<span style=\"color: #0087ff; text-decoration-color: #0087ff\">Dense</span>)                │ (<span style=\"color: #00d7ff; text-decoration-color: #00d7ff\">None</span>, <span style=\"color: #00af00; text-decoration-color: #00af00\">250</span>)            │        <span style=\"color: #00af00; text-decoration-color: #00af00\">62,750</span> │\n",
       "├─────────────────────────────────┼────────────────────────┼───────────────┤\n",
       "│ dropout_23 (<span style=\"color: #0087ff; text-decoration-color: #0087ff\">Dropout</span>)            │ (<span style=\"color: #00d7ff; text-decoration-color: #00d7ff\">None</span>, <span style=\"color: #00af00; text-decoration-color: #00af00\">250</span>)            │             <span style=\"color: #00af00; text-decoration-color: #00af00\">0</span> │\n",
       "├─────────────────────────────────┼────────────────────────┼───────────────┤\n",
       "│ dense_60 (<span style=\"color: #0087ff; text-decoration-color: #0087ff\">Dense</span>)                │ (<span style=\"color: #00d7ff; text-decoration-color: #00d7ff\">None</span>, <span style=\"color: #00af00; text-decoration-color: #00af00\">100</span>)            │        <span style=\"color: #00af00; text-decoration-color: #00af00\">25,100</span> │\n",
       "└─────────────────────────────────┴────────────────────────┴───────────────┘\n",
       "</pre>\n"
      ]
     },
     "metadata": {},
     "output_type": "display_data"
    },
    {
     "data": {
      "text/plain": [
       "\u001B[1m Total params: \u001B[0m\u001B[38;5;34m113,100\u001B[0m (441.80 KB)\n"
      ],
      "text/html": [
       "<pre style=\"white-space:pre;overflow-x:auto;line-height:normal;font-family:Menlo,'DejaVu Sans Mono',consolas,'Courier New',monospace\"><span style=\"font-weight: bold\"> Total params: </span><span style=\"color: #00af00; text-decoration-color: #00af00\">113,100</span> (441.80 KB)\n",
       "</pre>\n"
      ]
     },
     "metadata": {},
     "output_type": "display_data"
    },
    {
     "data": {
      "text/plain": [
       "\u001B[1m Trainable params: \u001B[0m\u001B[38;5;34m113,100\u001B[0m (441.80 KB)\n"
      ],
      "text/html": [
       "<pre style=\"white-space:pre;overflow-x:auto;line-height:normal;font-family:Menlo,'DejaVu Sans Mono',consolas,'Courier New',monospace\"><span style=\"font-weight: bold\"> Trainable params: </span><span style=\"color: #00af00; text-decoration-color: #00af00\">113,100</span> (441.80 KB)\n",
       "</pre>\n"
      ]
     },
     "metadata": {},
     "output_type": "display_data"
    },
    {
     "data": {
      "text/plain": [
       "\u001B[1m Non-trainable params: \u001B[0m\u001B[38;5;34m0\u001B[0m (0.00 B)\n"
      ],
      "text/html": [
       "<pre style=\"white-space:pre;overflow-x:auto;line-height:normal;font-family:Menlo,'DejaVu Sans Mono',consolas,'Courier New',monospace\"><span style=\"font-weight: bold\"> Non-trainable params: </span><span style=\"color: #00af00; text-decoration-color: #00af00\">0</span> (0.00 B)\n",
       "</pre>\n"
      ]
     },
     "metadata": {},
     "output_type": "display_data"
    },
    {
     "name": "stdout",
     "output_type": "stream",
     "text": [
      "None\n"
     ]
    }
   ],
   "execution_count": 85
  },
  {
   "metadata": {
    "ExecuteTime": {
     "end_time": "2025-03-23T08:25:49.696557Z",
     "start_time": "2025-03-23T08:25:39.876509Z"
    }
   },
   "cell_type": "code",
   "source": [
    "# 8. compile and train model\n",
    "ann_Model_1.compile(loss='mean_squared_error', optimizer=RMSprop(learning_rate=0.007), metrics=['accuracy'])\n",
    "#Train Model\n",
    "history = ann_Model_1.fit(Input_trai, Target_trai, validation_data=(Input_valid, Target_valid), batch_size=10, epochs=150, verbose = 2)\n"
   ],
   "id": "3165078454e0ef83",
   "outputs": [
    {
     "name": "stdout",
     "output_type": "stream",
     "text": [
      "Epoch 1/150\n",
      "24/24 - 0s - 15ms/step - accuracy: 0.0500 - loss: 312.2673 - val_accuracy: 0.0167 - val_loss: 122.0694\n",
      "Epoch 2/150\n",
      "24/24 - 0s - 2ms/step - accuracy: 0.0500 - loss: 82.4707 - val_accuracy: 0.0167 - val_loss: 57.7347\n",
      "Epoch 3/150\n",
      "24/24 - 0s - 2ms/step - accuracy: 0.0583 - loss: 91.9235 - val_accuracy: 0.0333 - val_loss: 50.3007\n",
      "Epoch 4/150\n",
      "24/24 - 0s - 3ms/step - accuracy: 0.0458 - loss: 93.6487 - val_accuracy: 0.0333 - val_loss: 49.5053\n",
      "Epoch 5/150\n",
      "24/24 - 0s - 3ms/step - accuracy: 0.0500 - loss: 80.5079 - val_accuracy: 0.0500 - val_loss: 152.0972\n",
      "Epoch 6/150\n",
      "24/24 - 0s - 3ms/step - accuracy: 0.0458 - loss: 91.3637 - val_accuracy: 0.0500 - val_loss: 149.6540\n",
      "Epoch 7/150\n",
      "24/24 - 0s - 3ms/step - accuracy: 0.0542 - loss: 76.3721 - val_accuracy: 0.0333 - val_loss: 65.8853\n",
      "Epoch 8/150\n",
      "24/24 - 0s - 3ms/step - accuracy: 0.0542 - loss: 75.0891 - val_accuracy: 0.0333 - val_loss: 69.1832\n",
      "Epoch 9/150\n",
      "24/24 - 0s - 3ms/step - accuracy: 0.0458 - loss: 69.9934 - val_accuracy: 0.0167 - val_loss: 59.2110\n",
      "Epoch 10/150\n",
      "24/24 - 0s - 3ms/step - accuracy: 0.0375 - loss: 66.5859 - val_accuracy: 0.0000e+00 - val_loss: 40.0445\n",
      "Epoch 11/150\n",
      "24/24 - 0s - 3ms/step - accuracy: 0.0417 - loss: 71.7907 - val_accuracy: 0.0333 - val_loss: 49.8488\n",
      "Epoch 12/150\n",
      "24/24 - 0s - 3ms/step - accuracy: 0.0708 - loss: 66.3513 - val_accuracy: 0.0500 - val_loss: 39.7626\n",
      "Epoch 13/150\n",
      "24/24 - 0s - 3ms/step - accuracy: 0.0333 - loss: 63.2553 - val_accuracy: 0.0500 - val_loss: 45.3199\n",
      "Epoch 14/150\n",
      "24/24 - 0s - 3ms/step - accuracy: 0.0583 - loss: 66.5809 - val_accuracy: 0.0500 - val_loss: 46.8483\n",
      "Epoch 15/150\n",
      "24/24 - 0s - 3ms/step - accuracy: 0.0583 - loss: 56.7437 - val_accuracy: 0.0333 - val_loss: 49.0787\n",
      "Epoch 16/150\n",
      "24/24 - 0s - 3ms/step - accuracy: 0.0417 - loss: 68.1691 - val_accuracy: 0.0333 - val_loss: 39.3943\n",
      "Epoch 17/150\n",
      "24/24 - 0s - 2ms/step - accuracy: 0.0542 - loss: 52.7466 - val_accuracy: 0.0667 - val_loss: 34.8466\n",
      "Epoch 18/150\n",
      "24/24 - 0s - 2ms/step - accuracy: 0.0333 - loss: 61.7542 - val_accuracy: 0.0667 - val_loss: 33.0257\n",
      "Epoch 19/150\n",
      "24/24 - 0s - 3ms/step - accuracy: 0.0375 - loss: 69.0343 - val_accuracy: 0.0000e+00 - val_loss: 81.5901\n",
      "Epoch 20/150\n",
      "24/24 - 0s - 3ms/step - accuracy: 0.0667 - loss: 59.1592 - val_accuracy: 0.0500 - val_loss: 33.6862\n",
      "Epoch 21/150\n",
      "24/24 - 0s - 2ms/step - accuracy: 0.0583 - loss: 62.0098 - val_accuracy: 0.0167 - val_loss: 41.7714\n",
      "Epoch 22/150\n",
      "24/24 - 0s - 3ms/step - accuracy: 0.0417 - loss: 55.9978 - val_accuracy: 0.0833 - val_loss: 38.2546\n",
      "Epoch 23/150\n",
      "24/24 - 0s - 3ms/step - accuracy: 0.0292 - loss: 48.4143 - val_accuracy: 0.0500 - val_loss: 50.1003\n",
      "Epoch 24/150\n",
      "24/24 - 0s - 3ms/step - accuracy: 0.0292 - loss: 55.2637 - val_accuracy: 0.0833 - val_loss: 77.5289\n",
      "Epoch 25/150\n",
      "24/24 - 0s - 3ms/step - accuracy: 0.0375 - loss: 44.6442 - val_accuracy: 0.0500 - val_loss: 32.5450\n",
      "Epoch 26/150\n",
      "24/24 - 0s - 3ms/step - accuracy: 0.0542 - loss: 49.8601 - val_accuracy: 0.0667 - val_loss: 29.8061\n",
      "Epoch 27/150\n",
      "24/24 - 0s - 3ms/step - accuracy: 0.0458 - loss: 44.4778 - val_accuracy: 0.0333 - val_loss: 98.3983\n",
      "Epoch 28/150\n",
      "24/24 - 0s - 3ms/step - accuracy: 0.0458 - loss: 48.0971 - val_accuracy: 0.0500 - val_loss: 43.4347\n",
      "Epoch 29/150\n",
      "24/24 - 0s - 3ms/step - accuracy: 0.0375 - loss: 43.8957 - val_accuracy: 0.0333 - val_loss: 31.8897\n",
      "Epoch 30/150\n",
      "24/24 - 0s - 3ms/step - accuracy: 0.0292 - loss: 51.9918 - val_accuracy: 0.0167 - val_loss: 27.6864\n",
      "Epoch 31/150\n",
      "24/24 - 0s - 3ms/step - accuracy: 0.0625 - loss: 47.0760 - val_accuracy: 0.0500 - val_loss: 46.1965\n",
      "Epoch 32/150\n",
      "24/24 - 0s - 3ms/step - accuracy: 0.0333 - loss: 42.8239 - val_accuracy: 0.0667 - val_loss: 36.7255\n",
      "Epoch 33/150\n",
      "24/24 - 0s - 3ms/step - accuracy: 0.0625 - loss: 43.1835 - val_accuracy: 0.0500 - val_loss: 38.6470\n",
      "Epoch 34/150\n",
      "24/24 - 0s - 3ms/step - accuracy: 0.0292 - loss: 44.9399 - val_accuracy: 0.0333 - val_loss: 52.9656\n",
      "Epoch 35/150\n",
      "24/24 - 0s - 3ms/step - accuracy: 0.0333 - loss: 41.7105 - val_accuracy: 0.0500 - val_loss: 48.0014\n",
      "Epoch 36/150\n",
      "24/24 - 0s - 3ms/step - accuracy: 0.0375 - loss: 43.0577 - val_accuracy: 0.0833 - val_loss: 42.1408\n",
      "Epoch 37/150\n",
      "24/24 - 0s - 3ms/step - accuracy: 0.0292 - loss: 40.0044 - val_accuracy: 0.0333 - val_loss: 30.9281\n",
      "Epoch 38/150\n",
      "24/24 - 0s - 3ms/step - accuracy: 0.0333 - loss: 42.8905 - val_accuracy: 0.0500 - val_loss: 37.9946\n",
      "Epoch 39/150\n",
      "24/24 - 0s - 3ms/step - accuracy: 0.0500 - loss: 41.3639 - val_accuracy: 0.0333 - val_loss: 31.1881\n",
      "Epoch 40/150\n",
      "24/24 - 0s - 3ms/step - accuracy: 0.0417 - loss: 43.6476 - val_accuracy: 0.0000e+00 - val_loss: 28.2536\n",
      "Epoch 41/150\n",
      "24/24 - 0s - 3ms/step - accuracy: 0.0333 - loss: 39.3784 - val_accuracy: 0.0000e+00 - val_loss: 32.2397\n",
      "Epoch 42/150\n",
      "24/24 - 0s - 3ms/step - accuracy: 0.0417 - loss: 40.8970 - val_accuracy: 0.0667 - val_loss: 36.2356\n",
      "Epoch 43/150\n",
      "24/24 - 0s - 3ms/step - accuracy: 0.0417 - loss: 39.7741 - val_accuracy: 0.0667 - val_loss: 38.4295\n",
      "Epoch 44/150\n",
      "24/24 - 0s - 3ms/step - accuracy: 0.0292 - loss: 39.1875 - val_accuracy: 0.0667 - val_loss: 41.8653\n",
      "Epoch 45/150\n",
      "24/24 - 0s - 3ms/step - accuracy: 0.0375 - loss: 36.0786 - val_accuracy: 0.0667 - val_loss: 57.1354\n",
      "Epoch 46/150\n",
      "24/24 - 0s - 3ms/step - accuracy: 0.0375 - loss: 36.2874 - val_accuracy: 0.0167 - val_loss: 26.8788\n",
      "Epoch 47/150\n",
      "24/24 - 0s - 2ms/step - accuracy: 0.0583 - loss: 44.0361 - val_accuracy: 0.0500 - val_loss: 49.4642\n",
      "Epoch 48/150\n",
      "24/24 - 0s - 3ms/step - accuracy: 0.0375 - loss: 31.7323 - val_accuracy: 0.0667 - val_loss: 27.5123\n",
      "Epoch 49/150\n",
      "24/24 - 0s - 3ms/step - accuracy: 0.0333 - loss: 40.5172 - val_accuracy: 0.1000 - val_loss: 27.7120\n",
      "Epoch 50/150\n",
      "24/24 - 0s - 2ms/step - accuracy: 0.0500 - loss: 35.4282 - val_accuracy: 0.0500 - val_loss: 30.9357\n",
      "Epoch 51/150\n",
      "24/24 - 0s - 3ms/step - accuracy: 0.0458 - loss: 33.3911 - val_accuracy: 0.0000e+00 - val_loss: 53.6438\n",
      "Epoch 52/150\n",
      "24/24 - 0s - 3ms/step - accuracy: 0.0333 - loss: 37.9026 - val_accuracy: 0.0667 - val_loss: 31.7493\n",
      "Epoch 53/150\n",
      "24/24 - 0s - 2ms/step - accuracy: 0.0292 - loss: 34.6512 - val_accuracy: 0.0000e+00 - val_loss: 31.4462\n",
      "Epoch 54/150\n",
      "24/24 - 0s - 3ms/step - accuracy: 0.0417 - loss: 34.5265 - val_accuracy: 0.0500 - val_loss: 32.3782\n",
      "Epoch 55/150\n",
      "24/24 - 0s - 2ms/step - accuracy: 0.0417 - loss: 37.5410 - val_accuracy: 0.0500 - val_loss: 40.2047\n",
      "Epoch 56/150\n",
      "24/24 - 0s - 3ms/step - accuracy: 0.0292 - loss: 36.5451 - val_accuracy: 0.0500 - val_loss: 31.4577\n",
      "Epoch 57/150\n",
      "24/24 - 0s - 3ms/step - accuracy: 0.0375 - loss: 36.3798 - val_accuracy: 0.0333 - val_loss: 34.5381\n",
      "Epoch 58/150\n",
      "24/24 - 0s - 3ms/step - accuracy: 0.0292 - loss: 33.2920 - val_accuracy: 0.0667 - val_loss: 37.6066\n",
      "Epoch 59/150\n",
      "24/24 - 0s - 2ms/step - accuracy: 0.0458 - loss: 36.7385 - val_accuracy: 0.0500 - val_loss: 28.9818\n",
      "Epoch 60/150\n",
      "24/24 - 0s - 3ms/step - accuracy: 0.0375 - loss: 36.2663 - val_accuracy: 0.1000 - val_loss: 27.1905\n",
      "Epoch 61/150\n",
      "24/24 - 0s - 2ms/step - accuracy: 0.0583 - loss: 31.6421 - val_accuracy: 0.0333 - val_loss: 36.7983\n",
      "Epoch 62/150\n",
      "24/24 - 0s - 3ms/step - accuracy: 0.0375 - loss: 35.5286 - val_accuracy: 0.0333 - val_loss: 26.7248\n",
      "Epoch 63/150\n",
      "24/24 - 0s - 2ms/step - accuracy: 0.0500 - loss: 31.4614 - val_accuracy: 0.0333 - val_loss: 38.5433\n",
      "Epoch 64/150\n",
      "24/24 - 0s - 3ms/step - accuracy: 0.0417 - loss: 35.0583 - val_accuracy: 0.0500 - val_loss: 42.9320\n",
      "Epoch 65/150\n",
      "24/24 - 0s - 2ms/step - accuracy: 0.0625 - loss: 36.5148 - val_accuracy: 0.0667 - val_loss: 46.9303\n",
      "Epoch 66/150\n",
      "24/24 - 0s - 3ms/step - accuracy: 0.0750 - loss: 33.6315 - val_accuracy: 0.0333 - val_loss: 27.3706\n",
      "Epoch 67/150\n",
      "24/24 - 0s - 3ms/step - accuracy: 0.0542 - loss: 32.6613 - val_accuracy: 0.0333 - val_loss: 26.5113\n",
      "Epoch 68/150\n",
      "24/24 - 0s - 2ms/step - accuracy: 0.0333 - loss: 29.8979 - val_accuracy: 0.0167 - val_loss: 24.5936\n",
      "Epoch 69/150\n",
      "24/24 - 0s - 2ms/step - accuracy: 0.0833 - loss: 33.3250 - val_accuracy: 0.0333 - val_loss: 32.4066\n",
      "Epoch 70/150\n",
      "24/24 - 0s - 3ms/step - accuracy: 0.0708 - loss: 32.1889 - val_accuracy: 0.0333 - val_loss: 27.3981\n",
      "Epoch 71/150\n",
      "24/24 - 0s - 3ms/step - accuracy: 0.0750 - loss: 31.9807 - val_accuracy: 0.0333 - val_loss: 35.2990\n",
      "Epoch 72/150\n",
      "24/24 - 0s - 3ms/step - accuracy: 0.0583 - loss: 33.3539 - val_accuracy: 0.0833 - val_loss: 31.8061\n",
      "Epoch 73/150\n",
      "24/24 - 0s - 2ms/step - accuracy: 0.0792 - loss: 30.5962 - val_accuracy: 0.0167 - val_loss: 25.6251\n",
      "Epoch 74/150\n",
      "24/24 - 0s - 3ms/step - accuracy: 0.0667 - loss: 32.6513 - val_accuracy: 0.0333 - val_loss: 26.1837\n",
      "Epoch 75/150\n",
      "24/24 - 0s - 3ms/step - accuracy: 0.0417 - loss: 32.5035 - val_accuracy: 0.0833 - val_loss: 39.8055\n",
      "Epoch 76/150\n",
      "24/24 - 0s - 3ms/step - accuracy: 0.0833 - loss: 30.7528 - val_accuracy: 0.0333 - val_loss: 24.9979\n",
      "Epoch 77/150\n",
      "24/24 - 0s - 3ms/step - accuracy: 0.0625 - loss: 31.2493 - val_accuracy: 0.0333 - val_loss: 28.1593\n",
      "Epoch 78/150\n",
      "24/24 - 0s - 3ms/step - accuracy: 0.0542 - loss: 32.0389 - val_accuracy: 0.0667 - val_loss: 25.3193\n",
      "Epoch 79/150\n",
      "24/24 - 0s - 3ms/step - accuracy: 0.0500 - loss: 30.5608 - val_accuracy: 0.0167 - val_loss: 25.0004\n",
      "Epoch 80/150\n",
      "24/24 - 0s - 3ms/step - accuracy: 0.0583 - loss: 30.5193 - val_accuracy: 0.0333 - val_loss: 29.4404\n",
      "Epoch 81/150\n",
      "24/24 - 0s - 3ms/step - accuracy: 0.0917 - loss: 32.2441 - val_accuracy: 0.0167 - val_loss: 38.6740\n",
      "Epoch 82/150\n",
      "24/24 - 0s - 3ms/step - accuracy: 0.0833 - loss: 30.6110 - val_accuracy: 0.0333 - val_loss: 26.4516\n",
      "Epoch 83/150\n",
      "24/24 - 0s - 3ms/step - accuracy: 0.0417 - loss: 33.7939 - val_accuracy: 0.1000 - val_loss: 40.9357\n",
      "Epoch 84/150\n",
      "24/24 - 0s - 3ms/step - accuracy: 0.0792 - loss: 30.8497 - val_accuracy: 0.0333 - val_loss: 26.6219\n",
      "Epoch 85/150\n",
      "24/24 - 0s - 3ms/step - accuracy: 0.0875 - loss: 31.5450 - val_accuracy: 0.0333 - val_loss: 28.9780\n",
      "Epoch 86/150\n",
      "24/24 - 0s - 3ms/step - accuracy: 0.0500 - loss: 30.6547 - val_accuracy: 0.0167 - val_loss: 24.4940\n",
      "Epoch 87/150\n",
      "24/24 - 0s - 3ms/step - accuracy: 0.0500 - loss: 30.5882 - val_accuracy: 0.0667 - val_loss: 25.8833\n",
      "Epoch 88/150\n",
      "24/24 - 0s - 3ms/step - accuracy: 0.0750 - loss: 30.8615 - val_accuracy: 0.0333 - val_loss: 26.3755\n",
      "Epoch 89/150\n",
      "24/24 - 0s - 3ms/step - accuracy: 0.0833 - loss: 29.1593 - val_accuracy: 0.0500 - val_loss: 23.8715\n",
      "Epoch 90/150\n",
      "24/24 - 0s - 3ms/step - accuracy: 0.1042 - loss: 30.2565 - val_accuracy: 0.0167 - val_loss: 28.3597\n",
      "Epoch 91/150\n",
      "24/24 - 0s - 3ms/step - accuracy: 0.0750 - loss: 29.8780 - val_accuracy: 0.0333 - val_loss: 35.8174\n",
      "Epoch 92/150\n",
      "24/24 - 0s - 3ms/step - accuracy: 0.0542 - loss: 28.9622 - val_accuracy: 0.0333 - val_loss: 50.7236\n",
      "Epoch 93/150\n",
      "24/24 - 0s - 3ms/step - accuracy: 0.0458 - loss: 29.0269 - val_accuracy: 0.0500 - val_loss: 37.5442\n",
      "Epoch 94/150\n",
      "24/24 - 0s - 3ms/step - accuracy: 0.0583 - loss: 30.4707 - val_accuracy: 0.1333 - val_loss: 28.3741\n",
      "Epoch 95/150\n",
      "24/24 - 0s - 3ms/step - accuracy: 0.0958 - loss: 28.9171 - val_accuracy: 0.1333 - val_loss: 26.4681\n",
      "Epoch 96/150\n",
      "24/24 - 0s - 3ms/step - accuracy: 0.0708 - loss: 28.3055 - val_accuracy: 0.0333 - val_loss: 28.1417\n",
      "Epoch 97/150\n",
      "24/24 - 0s - 3ms/step - accuracy: 0.0917 - loss: 29.5518 - val_accuracy: 0.0500 - val_loss: 26.8884\n",
      "Epoch 98/150\n",
      "24/24 - 0s - 3ms/step - accuracy: 0.0833 - loss: 30.3801 - val_accuracy: 0.0500 - val_loss: 30.8710\n",
      "Epoch 99/150\n",
      "24/24 - 0s - 3ms/step - accuracy: 0.0667 - loss: 27.2616 - val_accuracy: 0.0667 - val_loss: 41.6465\n",
      "Epoch 100/150\n",
      "24/24 - 0s - 3ms/step - accuracy: 0.0583 - loss: 28.4746 - val_accuracy: 0.1333 - val_loss: 23.6326\n",
      "Epoch 101/150\n",
      "24/24 - 0s - 3ms/step - accuracy: 0.0792 - loss: 27.6422 - val_accuracy: 0.0500 - val_loss: 24.8441\n",
      "Epoch 102/150\n",
      "24/24 - 0s - 3ms/step - accuracy: 0.0875 - loss: 29.1917 - val_accuracy: 0.0167 - val_loss: 24.2221\n",
      "Epoch 103/150\n",
      "24/24 - 0s - 3ms/step - accuracy: 0.0667 - loss: 27.6002 - val_accuracy: 0.1500 - val_loss: 28.6635\n",
      "Epoch 104/150\n",
      "24/24 - 0s - 3ms/step - accuracy: 0.0833 - loss: 30.4953 - val_accuracy: 0.0167 - val_loss: 23.9104\n",
      "Epoch 105/150\n",
      "24/24 - 0s - 2ms/step - accuracy: 0.0792 - loss: 24.8989 - val_accuracy: 0.0500 - val_loss: 34.9679\n",
      "Epoch 106/150\n",
      "24/24 - 0s - 3ms/step - accuracy: 0.0625 - loss: 30.0330 - val_accuracy: 0.1500 - val_loss: 27.9522\n",
      "Epoch 107/150\n",
      "24/24 - 0s - 3ms/step - accuracy: 0.0875 - loss: 28.3864 - val_accuracy: 0.0500 - val_loss: 29.9085\n",
      "Epoch 108/150\n",
      "24/24 - 0s - 3ms/step - accuracy: 0.1000 - loss: 27.8960 - val_accuracy: 0.0167 - val_loss: 23.6011\n",
      "Epoch 109/150\n",
      "24/24 - 0s - 3ms/step - accuracy: 0.1000 - loss: 29.3381 - val_accuracy: 0.1167 - val_loss: 26.5534\n",
      "Epoch 110/150\n",
      "24/24 - 0s - 3ms/step - accuracy: 0.0833 - loss: 27.2446 - val_accuracy: 0.0333 - val_loss: 28.0762\n",
      "Epoch 111/150\n",
      "24/24 - 0s - 3ms/step - accuracy: 0.0667 - loss: 26.8732 - val_accuracy: 0.0500 - val_loss: 26.4669\n",
      "Epoch 112/150\n",
      "24/24 - 0s - 3ms/step - accuracy: 0.0917 - loss: 26.8788 - val_accuracy: 0.0500 - val_loss: 40.4633\n",
      "Epoch 113/150\n",
      "24/24 - 0s - 3ms/step - accuracy: 0.0542 - loss: 28.9795 - val_accuracy: 0.0333 - val_loss: 25.1896\n",
      "Epoch 114/150\n",
      "24/24 - 0s - 3ms/step - accuracy: 0.0708 - loss: 28.3493 - val_accuracy: 0.0833 - val_loss: 22.9191\n",
      "Epoch 115/150\n",
      "24/24 - 0s - 3ms/step - accuracy: 0.0667 - loss: 26.5570 - val_accuracy: 0.1000 - val_loss: 26.5301\n",
      "Epoch 116/150\n",
      "24/24 - 0s - 3ms/step - accuracy: 0.0583 - loss: 28.1401 - val_accuracy: 0.0667 - val_loss: 22.9294\n",
      "Epoch 117/150\n",
      "24/24 - 0s - 3ms/step - accuracy: 0.0667 - loss: 30.0415 - val_accuracy: 0.0333 - val_loss: 23.2268\n",
      "Epoch 118/150\n",
      "24/24 - 0s - 3ms/step - accuracy: 0.0708 - loss: 27.1409 - val_accuracy: 0.0000e+00 - val_loss: 22.4206\n",
      "Epoch 119/150\n",
      "24/24 - 0s - 3ms/step - accuracy: 0.0750 - loss: 27.8838 - val_accuracy: 0.0500 - val_loss: 45.7064\n",
      "Epoch 120/150\n",
      "24/24 - 0s - 3ms/step - accuracy: 0.1167 - loss: 25.9264 - val_accuracy: 0.0500 - val_loss: 26.1387\n",
      "Epoch 121/150\n",
      "24/24 - 0s - 3ms/step - accuracy: 0.0708 - loss: 28.6251 - val_accuracy: 0.0500 - val_loss: 32.7810\n",
      "Epoch 122/150\n",
      "24/24 - 0s - 3ms/step - accuracy: 0.0792 - loss: 25.1253 - val_accuracy: 0.0500 - val_loss: 33.5239\n",
      "Epoch 123/150\n",
      "24/24 - 0s - 3ms/step - accuracy: 0.0667 - loss: 28.4064 - val_accuracy: 0.1000 - val_loss: 31.5884\n",
      "Epoch 124/150\n",
      "24/24 - 0s - 3ms/step - accuracy: 0.0792 - loss: 25.7322 - val_accuracy: 0.2167 - val_loss: 24.4554\n",
      "Epoch 125/150\n",
      "24/24 - 0s - 3ms/step - accuracy: 0.0667 - loss: 27.1877 - val_accuracy: 0.1167 - val_loss: 25.1373\n",
      "Epoch 126/150\n",
      "24/24 - 0s - 3ms/step - accuracy: 0.0792 - loss: 27.5261 - val_accuracy: 0.0667 - val_loss: 34.0188\n",
      "Epoch 127/150\n",
      "24/24 - 0s - 2ms/step - accuracy: 0.0542 - loss: 26.9324 - val_accuracy: 0.0333 - val_loss: 23.1678\n",
      "Epoch 128/150\n",
      "24/24 - 0s - 3ms/step - accuracy: 0.0667 - loss: 26.4760 - val_accuracy: 0.0667 - val_loss: 23.9705\n",
      "Epoch 129/150\n",
      "24/24 - 0s - 3ms/step - accuracy: 0.0625 - loss: 27.1552 - val_accuracy: 0.1167 - val_loss: 26.1473\n",
      "Epoch 130/150\n",
      "24/24 - 0s - 3ms/step - accuracy: 0.1208 - loss: 26.6926 - val_accuracy: 0.0500 - val_loss: 28.3678\n",
      "Epoch 131/150\n",
      "24/24 - 0s - 3ms/step - accuracy: 0.0875 - loss: 28.4800 - val_accuracy: 0.1167 - val_loss: 22.6012\n",
      "Epoch 132/150\n",
      "24/24 - 0s - 3ms/step - accuracy: 0.0500 - loss: 25.9557 - val_accuracy: 0.0667 - val_loss: 36.2487\n",
      "Epoch 133/150\n",
      "24/24 - 0s - 3ms/step - accuracy: 0.0458 - loss: 29.4511 - val_accuracy: 0.0500 - val_loss: 24.0406\n",
      "Epoch 134/150\n",
      "24/24 - 0s - 3ms/step - accuracy: 0.0833 - loss: 26.6435 - val_accuracy: 0.0167 - val_loss: 23.0383\n",
      "Epoch 135/150\n",
      "24/24 - 0s - 3ms/step - accuracy: 0.0750 - loss: 27.5327 - val_accuracy: 0.0167 - val_loss: 22.8940\n",
      "Epoch 136/150\n",
      "24/24 - 0s - 3ms/step - accuracy: 0.0833 - loss: 28.2569 - val_accuracy: 0.0500 - val_loss: 27.7630\n",
      "Epoch 137/150\n",
      "24/24 - 0s - 2ms/step - accuracy: 0.0750 - loss: 25.1535 - val_accuracy: 0.0667 - val_loss: 22.4197\n",
      "Epoch 138/150\n",
      "24/24 - 0s - 3ms/step - accuracy: 0.0833 - loss: 25.8914 - val_accuracy: 0.0333 - val_loss: 25.5504\n",
      "Epoch 139/150\n",
      "24/24 - 0s - 3ms/step - accuracy: 0.0875 - loss: 27.6634 - val_accuracy: 0.1500 - val_loss: 22.5068\n",
      "Epoch 140/150\n",
      "24/24 - 0s - 3ms/step - accuracy: 0.0833 - loss: 26.0063 - val_accuracy: 0.1167 - val_loss: 21.4436\n",
      "Epoch 141/150\n",
      "24/24 - 0s - 3ms/step - accuracy: 0.0583 - loss: 25.5204 - val_accuracy: 0.1333 - val_loss: 25.3060\n",
      "Epoch 142/150\n",
      "24/24 - 0s - 3ms/step - accuracy: 0.1250 - loss: 26.4155 - val_accuracy: 0.1333 - val_loss: 31.5731\n",
      "Epoch 143/150\n",
      "24/24 - 0s - 3ms/step - accuracy: 0.0917 - loss: 26.6528 - val_accuracy: 0.0333 - val_loss: 29.9753\n",
      "Epoch 144/150\n",
      "24/24 - 0s - 3ms/step - accuracy: 0.1125 - loss: 27.0201 - val_accuracy: 0.1333 - val_loss: 22.1635\n",
      "Epoch 145/150\n",
      "24/24 - 0s - 3ms/step - accuracy: 0.1208 - loss: 26.3903 - val_accuracy: 0.0833 - val_loss: 24.8186\n",
      "Epoch 146/150\n",
      "24/24 - 0s - 3ms/step - accuracy: 0.0750 - loss: 26.2316 - val_accuracy: 0.0833 - val_loss: 22.3140\n",
      "Epoch 147/150\n",
      "24/24 - 0s - 3ms/step - accuracy: 0.0875 - loss: 25.1848 - val_accuracy: 0.1167 - val_loss: 23.6705\n",
      "Epoch 148/150\n",
      "24/24 - 0s - 3ms/step - accuracy: 0.0708 - loss: 26.8378 - val_accuracy: 0.0667 - val_loss: 26.3948\n",
      "Epoch 149/150\n",
      "24/24 - 0s - 3ms/step - accuracy: 0.1042 - loss: 25.3972 - val_accuracy: 0.1167 - val_loss: 22.9152\n",
      "Epoch 150/150\n",
      "24/24 - 0s - 3ms/step - accuracy: 0.0833 - loss: 24.5810 - val_accuracy: 0.0833 - val_loss: 22.8044\n"
     ]
    }
   ],
   "execution_count": 86
  },
  {
   "metadata": {
    "ExecuteTime": {
     "end_time": "2025-03-23T08:25:51.733132Z",
     "start_time": "2025-03-23T08:25:51.667558Z"
    }
   },
   "cell_type": "code",
   "source": [
    "# 9. visualize loss in deep learning\n",
    "plt.plot(history.history['loss'])\n",
    "plt.plot(history.history['val_loss'])\n",
    "plt.title('model loss')\n",
    "plt.ylabel('Loss')\n",
    "plt.xlabel('Epoch')\n",
    "plt.legend(['train', 'val'], loc='upper left')\n",
    "plt.show()\n"
   ],
   "id": "754523668d4592ea",
   "outputs": [
    {
     "data": {
      "text/plain": [
       "<Figure size 640x480 with 1 Axes>"
      ],
      "image/png": "[encoded data removed]"
     },
     "metadata": {},
     "output_type": "display_data"
    }
   ],
   "execution_count": 87
  },
  {
   "metadata": {
    "ExecuteTime": {
     "end_time": "2025-03-23T08:25:56.803365Z",
     "start_time": "2025-03-23T08:25:56.738527Z"
    }
   },
   "cell_type": "code",
   "source": [
    "# 10. visualize accuracy in deep learning\n",
    "plt.plot(history.history['accuracy'])\n",
    "plt.plot(history.history['val_accuracy'])\n",
    "plt.title('model accuracy')\n",
    "plt.ylabel('Accuracy')\n",
    "plt.xlabel('Epoch')\n",
    "plt.legend(['train', 'val'], loc='upper left')\n",
    "plt.show()\n"
   ],
   "id": "5ef4449a7eeb897a",
   "outputs": [
    {
     "data": {
      "text/plain": [
       "<Figure size 640x480 with 1 Axes>"
      ],
      "image/png": "[encoded data removed]"
     },
     "metadata": {},
     "output_type": "display_data"
    }
   ],
   "execution_count": 88
  },
  {
   "metadata": {
    "ExecuteTime": {
     "end_time": "2025-03-23T08:24:12.811710Z",
     "start_time": "2025-03-23T08:24:12.794521Z"
    }
   },
   "cell_type": "code",
   "source": [
    "# 11. save the models\n",
    "ann_Model_1.save('w5_ImplementationANN_1.keras')\n",
    "\n",
    "# 12. check the performance of model with actual output and predict output\n"
   ],
   "id": "206ca4085617d2e5",
   "outputs": [],
   "execution_count": 83
  },
  {
   "metadata": {},
   "cell_type": "code",
   "outputs": [],
   "execution_count": null,
   "source": "",
   "id": "dda9e15d5d97ffc7"
  }
 ],
 "metadata": {
  "kernelspec": {
   "display_name": "Python 3",
   "language": "python",
   "name": "python3"
  },
  "language_info": {
   "codemirror_mode": {
    "name": "ipython",
    "version": 2
   },
   "file_extension": ".py",
   "mimetype": "text/x-python",
   "name": "python",
   "nbconvert_exporter": "python",
   "pygments_lexer": "ipython2",
   "version": "2.7.6"
  }
 },
 "nbformat": 4,
 "nbformat_minor": 5
}
